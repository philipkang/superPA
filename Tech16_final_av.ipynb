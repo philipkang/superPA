{
  "nbformat": 4,
  "nbformat_minor": 0,
  "metadata": {
    "colab": {
      "provenance": [],
      "gpuType": "T4"
    },
    "kernelspec": {
      "name": "python3",
      "display_name": "Python 3"
    },
    "language_info": {
      "name": "python"
    },
    "widgets": {
      "application/vnd.jupyter.widget-state+json": {
        "11713abafe4949aea51207a1b2100a9c": {
          "model_module": "@jupyter-widgets/controls",
          "model_name": "TextModel",
          "model_module_version": "1.5.0",
          "state": {
            "_dom_classes": [],
            "_model_module": "@jupyter-widgets/controls",
            "_model_module_version": "1.5.0",
            "_model_name": "TextModel",
            "_view_count": null,
            "_view_module": "@jupyter-widgets/controls",
            "_view_module_version": "1.5.0",
            "_view_name": "TextView",
            "continuous_update": true,
            "description": "YouTube URL:",
            "description_tooltip": null,
            "disabled": false,
            "layout": "IPY_MODEL_94b2230b149b4432b7a2b8e76a544f54",
            "placeholder": "Enter YouTube video URL",
            "style": "IPY_MODEL_ce6e9bef9ce44f499004e79963b77225",
            "value": ""
          }
        },
        "94b2230b149b4432b7a2b8e76a544f54": {
          "model_module": "@jupyter-widgets/base",
          "model_name": "LayoutModel",
          "model_module_version": "1.2.0",
          "state": {
            "_model_module": "@jupyter-widgets/base",
            "_model_module_version": "1.2.0",
            "_model_name": "LayoutModel",
            "_view_count": null,
            "_view_module": "@jupyter-widgets/base",
            "_view_module_version": "1.2.0",
            "_view_name": "LayoutView",
            "align_content": null,
            "align_items": null,
            "align_self": null,
            "border": null,
            "bottom": null,
            "display": null,
            "flex": null,
            "flex_flow": null,
            "grid_area": null,
            "grid_auto_columns": null,
            "grid_auto_flow": null,
            "grid_auto_rows": null,
            "grid_column": null,
            "grid_gap": null,
            "grid_row": null,
            "grid_template_areas": null,
            "grid_template_columns": null,
            "grid_template_rows": null,
            "height": null,
            "justify_content": null,
            "justify_items": null,
            "left": null,
            "margin": null,
            "max_height": null,
            "max_width": null,
            "min_height": null,
            "min_width": null,
            "object_fit": null,
            "object_position": null,
            "order": null,
            "overflow": null,
            "overflow_x": null,
            "overflow_y": null,
            "padding": null,
            "right": null,
            "top": null,
            "visibility": null,
            "width": null
          }
        },
        "ce6e9bef9ce44f499004e79963b77225": {
          "model_module": "@jupyter-widgets/controls",
          "model_name": "DescriptionStyleModel",
          "model_module_version": "1.5.0",
          "state": {
            "_model_module": "@jupyter-widgets/controls",
            "_model_module_version": "1.5.0",
            "_model_name": "DescriptionStyleModel",
            "_view_count": null,
            "_view_module": "@jupyter-widgets/base",
            "_view_module_version": "1.2.0",
            "_view_name": "StyleView",
            "description_width": ""
          }
        },
        "78520e86d16a42f8a91b5809c7f0a186": {
          "model_module": "@jupyter-widgets/controls",
          "model_name": "FileUploadModel",
          "model_module_version": "1.5.0",
          "state": {
            "_counter": 0,
            "_dom_classes": [],
            "_model_module": "@jupyter-widgets/controls",
            "_model_module_version": "1.5.0",
            "_model_name": "FileUploadModel",
            "_view_count": null,
            "_view_module": "@jupyter-widgets/controls",
            "_view_module_version": "1.5.0",
            "_view_name": "FileUploadView",
            "accept": ".mp4,.mp3,.wav",
            "button_style": "",
            "data": [],
            "description": "Upload",
            "description_tooltip": null,
            "disabled": false,
            "error": "",
            "icon": "upload",
            "layout": "IPY_MODEL_bc4c838706744b539f57cbd51a455075",
            "metadata": [],
            "multiple": true,
            "style": "IPY_MODEL_d17840972ec14c0180e9747abdfc90e4"
          }
        },
        "bc4c838706744b539f57cbd51a455075": {
          "model_module": "@jupyter-widgets/base",
          "model_name": "LayoutModel",
          "model_module_version": "1.2.0",
          "state": {
            "_model_module": "@jupyter-widgets/base",
            "_model_module_version": "1.2.0",
            "_model_name": "LayoutModel",
            "_view_count": null,
            "_view_module": "@jupyter-widgets/base",
            "_view_module_version": "1.2.0",
            "_view_name": "LayoutView",
            "align_content": null,
            "align_items": null,
            "align_self": null,
            "border": null,
            "bottom": null,
            "display": null,
            "flex": null,
            "flex_flow": null,
            "grid_area": null,
            "grid_auto_columns": null,
            "grid_auto_flow": null,
            "grid_auto_rows": null,
            "grid_column": null,
            "grid_gap": null,
            "grid_row": null,
            "grid_template_areas": null,
            "grid_template_columns": null,
            "grid_template_rows": null,
            "height": null,
            "justify_content": null,
            "justify_items": null,
            "left": null,
            "margin": null,
            "max_height": null,
            "max_width": null,
            "min_height": null,
            "min_width": null,
            "object_fit": null,
            "object_position": null,
            "order": null,
            "overflow": null,
            "overflow_x": null,
            "overflow_y": null,
            "padding": null,
            "right": null,
            "top": null,
            "visibility": null,
            "width": null
          }
        },
        "d17840972ec14c0180e9747abdfc90e4": {
          "model_module": "@jupyter-widgets/controls",
          "model_name": "ButtonStyleModel",
          "model_module_version": "1.5.0",
          "state": {
            "_model_module": "@jupyter-widgets/controls",
            "_model_module_version": "1.5.0",
            "_model_name": "ButtonStyleModel",
            "_view_count": null,
            "_view_module": "@jupyter-widgets/base",
            "_view_module_version": "1.2.0",
            "_view_name": "StyleView",
            "button_color": null,
            "font_weight": ""
          }
        },
        "a253d9527c204742b39b31a581ea781a": {
          "model_module": "@jupyter-widgets/controls",
          "model_name": "ButtonModel",
          "model_module_version": "1.5.0",
          "state": {
            "_dom_classes": [],
            "_model_module": "@jupyter-widgets/controls",
            "_model_module_version": "1.5.0",
            "_model_name": "ButtonModel",
            "_view_count": null,
            "_view_module": "@jupyter-widgets/controls",
            "_view_module_version": "1.5.0",
            "_view_name": "ButtonView",
            "button_style": "",
            "description": "Process Media",
            "disabled": false,
            "icon": "",
            "layout": "IPY_MODEL_9e9e99be5c4246bc8f2e7e2eccc53052",
            "style": "IPY_MODEL_e7b7f5fcef274e6ba55abaaeb4d04d83",
            "tooltip": "Click to process the media"
          }
        },
        "9e9e99be5c4246bc8f2e7e2eccc53052": {
          "model_module": "@jupyter-widgets/base",
          "model_name": "LayoutModel",
          "model_module_version": "1.2.0",
          "state": {
            "_model_module": "@jupyter-widgets/base",
            "_model_module_version": "1.2.0",
            "_model_name": "LayoutModel",
            "_view_count": null,
            "_view_module": "@jupyter-widgets/base",
            "_view_module_version": "1.2.0",
            "_view_name": "LayoutView",
            "align_content": null,
            "align_items": null,
            "align_self": null,
            "border": null,
            "bottom": null,
            "display": null,
            "flex": null,
            "flex_flow": null,
            "grid_area": null,
            "grid_auto_columns": null,
            "grid_auto_flow": null,
            "grid_auto_rows": null,
            "grid_column": null,
            "grid_gap": null,
            "grid_row": null,
            "grid_template_areas": null,
            "grid_template_columns": null,
            "grid_template_rows": null,
            "height": null,
            "justify_content": null,
            "justify_items": null,
            "left": null,
            "margin": null,
            "max_height": null,
            "max_width": null,
            "min_height": null,
            "min_width": null,
            "object_fit": null,
            "object_position": null,
            "order": null,
            "overflow": null,
            "overflow_x": null,
            "overflow_y": null,
            "padding": null,
            "right": null,
            "top": null,
            "visibility": null,
            "width": null
          }
        },
        "e7b7f5fcef274e6ba55abaaeb4d04d83": {
          "model_module": "@jupyter-widgets/controls",
          "model_name": "ButtonStyleModel",
          "model_module_version": "1.5.0",
          "state": {
            "_model_module": "@jupyter-widgets/controls",
            "_model_module_version": "1.5.0",
            "_model_name": "ButtonStyleModel",
            "_view_count": null,
            "_view_module": "@jupyter-widgets/base",
            "_view_module_version": "1.2.0",
            "_view_name": "StyleView",
            "button_color": null,
            "font_weight": ""
          }
        },
        "6153b192039d4c079f03e7ecbc6a2009": {
          "model_module": "@jupyter-widgets/controls",
          "model_name": "ButtonModel",
          "model_module_version": "1.5.0",
          "state": {
            "_dom_classes": [],
            "_model_module": "@jupyter-widgets/controls",
            "_model_module_version": "1.5.0",
            "_model_name": "ButtonModel",
            "_view_count": null,
            "_view_module": "@jupyter-widgets/controls",
            "_view_module_version": "1.5.0",
            "_view_name": "ButtonView",
            "button_style": "danger",
            "description": "Delete Uploaded Files",
            "disabled": false,
            "icon": "",
            "layout": "IPY_MODEL_a3d81df8262a4bfc9ecfdb39ef709c89",
            "style": "IPY_MODEL_e1f1266427484b3b9a610582973f30fe",
            "tooltip": "Click to delete all uploaded files"
          }
        },
        "a3d81df8262a4bfc9ecfdb39ef709c89": {
          "model_module": "@jupyter-widgets/base",
          "model_name": "LayoutModel",
          "model_module_version": "1.2.0",
          "state": {
            "_model_module": "@jupyter-widgets/base",
            "_model_module_version": "1.2.0",
            "_model_name": "LayoutModel",
            "_view_count": null,
            "_view_module": "@jupyter-widgets/base",
            "_view_module_version": "1.2.0",
            "_view_name": "LayoutView",
            "align_content": null,
            "align_items": null,
            "align_self": null,
            "border": null,
            "bottom": null,
            "display": null,
            "flex": null,
            "flex_flow": null,
            "grid_area": null,
            "grid_auto_columns": null,
            "grid_auto_flow": null,
            "grid_auto_rows": null,
            "grid_column": null,
            "grid_gap": null,
            "grid_row": null,
            "grid_template_areas": null,
            "grid_template_columns": null,
            "grid_template_rows": null,
            "height": null,
            "justify_content": null,
            "justify_items": null,
            "left": null,
            "margin": null,
            "max_height": null,
            "max_width": null,
            "min_height": null,
            "min_width": null,
            "object_fit": null,
            "object_position": null,
            "order": null,
            "overflow": null,
            "overflow_x": null,
            "overflow_y": null,
            "padding": null,
            "right": null,
            "top": null,
            "visibility": null,
            "width": null
          }
        },
        "e1f1266427484b3b9a610582973f30fe": {
          "model_module": "@jupyter-widgets/controls",
          "model_name": "ButtonStyleModel",
          "model_module_version": "1.5.0",
          "state": {
            "_model_module": "@jupyter-widgets/controls",
            "_model_module_version": "1.5.0",
            "_model_name": "ButtonStyleModel",
            "_view_count": null,
            "_view_module": "@jupyter-widgets/base",
            "_view_module_version": "1.2.0",
            "_view_name": "StyleView",
            "button_color": null,
            "font_weight": ""
          }
        }
      }
    },
    "accelerator": "GPU"
  },
  "cells": [
    {
      "cell_type": "markdown",
      "source": [],
      "metadata": {
        "id": "oh1aDoDp7f8A"
      }
    },
    {
      "cell_type": "code",
      "execution_count": null,
      "metadata": {
        "colab": {
          "base_uri": "https://localhost:8080/",
          "height": 35
        },
        "id": "uXoXD61c6qG_",
        "outputId": "81f7a13b-8bee-4e99-bb99-798ae26c62fd"
      },
      "outputs": [
        {
          "output_type": "execute_result",
          "data": {
            "text/plain": [
              "'Video and Audio Summarizer for Colab\\n\\nThis script allows users to summarize YouTube videos, uploaded video files, or audio files.\\n'"
            ],
            "application/vnd.google.colaboratory.intrinsic+json": {
              "type": "string"
            }
          },
          "metadata": {},
          "execution_count": 1
        }
      ],
      "source": [
        "# -*- coding: utf-8 -*-\n",
        "\"\"\"Video and Audio Summarizer for Colab\n",
        "\n",
        "This script allows users to summarize YouTube videos, uploaded video files, or audio files.\n",
        "\"\"\""
      ]
    },
    {
      "cell_type": "code",
      "source": [
        "# Install necessary packages\n",
        "!pip install -q yt-dlp pydub llama-index-readers-file ipywidgets openai\n",
        "!pip install -q git+https://github.com/openai/whisper.git"
      ],
      "metadata": {
        "colab": {
          "base_uri": "https://localhost:8080/"
        },
        "id": "bfqm181p7muF",
        "outputId": "3131c45b-e8eb-4681-ad79-d2c62f265668",
        "collapsed": true
      },
      "execution_count": 2,
      "outputs": [
        {
          "output_type": "stream",
          "name": "stdout",
          "text": [
            "\u001b[2K     \u001b[90m━━━━━━━━━━━━━━━━━━━━━━━━━━━━━━━━━━━━━━━━\u001b[0m \u001b[32m170.1/170.1 kB\u001b[0m \u001b[31m6.0 MB/s\u001b[0m eta \u001b[36m0:00:00\u001b[0m\n",
            "\u001b[2K   \u001b[90m━━━━━━━━━━━━━━━━━━━━━━━━━━━━━━━━━━━━━━━━\u001b[0m \u001b[32m3.1/3.1 MB\u001b[0m \u001b[31m63.6 MB/s\u001b[0m eta \u001b[36m0:00:00\u001b[0m\n",
            "\u001b[2K   \u001b[90m━━━━━━━━━━━━━━━━━━━━━━━━━━━━━━━━━━━━━━━━\u001b[0m \u001b[32m361.5/361.5 kB\u001b[0m \u001b[31m27.1 MB/s\u001b[0m eta \u001b[36m0:00:00\u001b[0m\n",
            "\u001b[2K   \u001b[90m━━━━━━━━━━━━━━━━━━━━━━━━━━━━━━━━━━━━━━━━\u001b[0m \u001b[32m75.6/75.6 kB\u001b[0m \u001b[31m6.2 MB/s\u001b[0m eta \u001b[36m0:00:00\u001b[0m\n",
            "\u001b[2K   \u001b[90m━━━━━━━━━━━━━━━━━━━━━━━━━━━━━━━━━━━━━━━━\u001b[0m \u001b[32m77.9/77.9 kB\u001b[0m \u001b[31m6.3 MB/s\u001b[0m eta \u001b[36m0:00:00\u001b[0m\n",
            "\u001b[2K   \u001b[90m━━━━━━━━━━━━━━━━━━━━━━━━━━━━━━━━━━━━━━━━\u001b[0m \u001b[32m318.9/318.9 kB\u001b[0m \u001b[31m22.7 MB/s\u001b[0m eta \u001b[36m0:00:00\u001b[0m\n",
            "\u001b[2K   \u001b[90m━━━━━━━━━━━━━━━━━━━━━━━━━━━━━━━━━━━━━━━━\u001b[0m \u001b[32m15.5/15.5 MB\u001b[0m \u001b[31m94.3 MB/s\u001b[0m eta \u001b[36m0:00:00\u001b[0m\n",
            "\u001b[2K   \u001b[90m━━━━━━━━━━━━━━━━━━━━━━━━━━━━━━━━━━━━━━━━\u001b[0m \u001b[32m295.8/295.8 kB\u001b[0m \u001b[31m22.4 MB/s\u001b[0m eta \u001b[36m0:00:00\u001b[0m\n",
            "\u001b[2K   \u001b[90m━━━━━━━━━━━━━━━━━━━━━━━━━━━━━━━━━━━━━━━━\u001b[0m \u001b[32m130.2/130.2 kB\u001b[0m \u001b[31m10.9 MB/s\u001b[0m eta \u001b[36m0:00:00\u001b[0m\n",
            "\u001b[2K   \u001b[90m━━━━━━━━━━━━━━━━━━━━━━━━━━━━━━━━━━━━━━━━\u001b[0m \u001b[32m3.0/3.0 MB\u001b[0m \u001b[31m85.5 MB/s\u001b[0m eta \u001b[36m0:00:00\u001b[0m\n",
            "\u001b[2K   \u001b[90m━━━━━━━━━━━━━━━━━━━━━━━━━━━━━━━━━━━━━━━━\u001b[0m \u001b[32m194.4/194.4 kB\u001b[0m \u001b[31m13.1 MB/s\u001b[0m eta \u001b[36m0:00:00\u001b[0m\n",
            "\u001b[2K   \u001b[90m━━━━━━━━━━━━━━━━━━━━━━━━━━━━━━━━━━━━━━━━\u001b[0m \u001b[32m2.1/2.1 MB\u001b[0m \u001b[31m65.9 MB/s\u001b[0m eta \u001b[36m0:00:00\u001b[0m\n",
            "\u001b[2K   \u001b[90m━━━━━━━━━━━━━━━━━━━━━━━━━━━━━━━━━━━━━━━━\u001b[0m \u001b[32m1.1/1.1 MB\u001b[0m \u001b[31m55.1 MB/s\u001b[0m eta \u001b[36m0:00:00\u001b[0m\n",
            "\u001b[2K   \u001b[90m━━━━━━━━━━━━━━━━━━━━━━━━━━━━━━━━━━━━━━━━\u001b[0m \u001b[32m58.3/58.3 kB\u001b[0m \u001b[31m4.9 MB/s\u001b[0m eta \u001b[36m0:00:00\u001b[0m\n",
            "\u001b[2K   \u001b[90m━━━━━━━━━━━━━━━━━━━━━━━━━━━━━━━━━━━━━━━━\u001b[0m \u001b[32m49.2/49.2 kB\u001b[0m \u001b[31m4.2 MB/s\u001b[0m eta \u001b[36m0:00:00\u001b[0m\n",
            "\u001b[?25h  Installing build dependencies ... \u001b[?25l\u001b[?25hdone\n",
            "  Getting requirements to build wheel ... \u001b[?25l\u001b[?25hdone\n",
            "  Preparing metadata (pyproject.toml) ... \u001b[?25l\u001b[?25hdone\n",
            "  Building wheel for openai-whisper (pyproject.toml) ... \u001b[?25l\u001b[?25hdone\n"
          ]
        }
      ]
    },
    {
      "cell_type": "code",
      "source": [
        "import yt_dlp\n",
        "import os\n",
        "import subprocess\n",
        "from pathlib import Path\n",
        "from google.colab import files\n",
        "from llama_index.readers.file import VideoAudioReader\n",
        "from openai import OpenAI\n",
        "import ipywidgets as widgets\n",
        "from IPython.display import display\n",
        "import textwrap\n",
        "import mimetypes"
      ],
      "metadata": {
        "id": "y_qArAfJ8tuZ"
      },
      "execution_count": 3,
      "outputs": []
    },
    {
      "cell_type": "code",
      "source": [
        "# Global variable to track processed files\n",
        "processed_files = set()"
      ],
      "metadata": {
        "id": "KJ3rc3d7SJiF"
      },
      "execution_count": 4,
      "outputs": []
    },
    {
      "cell_type": "code",
      "source": [
        "# Set up OpenAI API key\n",
        "from google.colab import userdata\n",
        "open_ai_key = userdata.get('OPENAI_API_KEY')\n",
        "os.environ[\"OPENAI_API_KEY\"] = open_ai_key\n",
        "client = OpenAI(api_key=open_ai_key)"
      ],
      "metadata": {
        "id": "tVshZ9Cz8kDk"
      },
      "execution_count": 5,
      "outputs": []
    },
    {
      "cell_type": "code",
      "source": [
        "def download_audio(video_url, output_path='audio.wav'):\n",
        "    ydl_opts = {\n",
        "        'format': 'bestaudio/best',\n",
        "        'outtmpl': output_path,\n",
        "        'postprocessors': [{\n",
        "            'key': 'FFmpegExtractAudio',\n",
        "            'preferredcodec': 'wav',\n",
        "            'preferredquality': '192',\n",
        "        }],\n",
        "    }\n",
        "    with yt_dlp.YoutubeDL(ydl_opts) as ydl:\n",
        "        ydl.download([video_url])\n",
        "\n",
        "    # Check if the file was renamed\n",
        "    if os.path.exists(output_path + '.wav'):\n",
        "        os.rename(output_path + '.wav', output_path)\n",
        "\n",
        "    print(f\"Debug: Audio file downloaded as {output_path}\")\n",
        "    return output_path"
      ],
      "metadata": {
        "id": "Ho989aLucdmz"
      },
      "execution_count": 6,
      "outputs": []
    },
    {
      "cell_type": "code",
      "source": [
        "def process_audio(file_path):\n",
        "    print(f\"Debug: Processing audio file: {file_path}\")\n",
        "    try:\n",
        "        reader = VideoAudioReader()\n",
        "        documents = reader.load_data(Path(file_path))\n",
        "        transcript = documents[0].text\n",
        "        print(\"Transcript:\")\n",
        "        print(transcript)\n",
        "\n",
        "        summary = summarize_text(transcript)\n",
        "        print(\"\\nAudio/Video Summary:\")\n",
        "        print(textwrap.fill(summary, width=80))\n",
        "    except Exception as e:\n",
        "        print(f\"Error processing audio: {str(e)}\")\n",
        "        # If there's an error with VideoAudioReader, try using whisper directly\n",
        "        try:\n",
        "            import whisper\n",
        "            model = whisper.load_model(\"base\")\n",
        "            result = model.transcribe(file_path)\n",
        "            transcript = result[\"text\"]\n",
        "            print(\"Transcript (using whisper directly):\")\n",
        "            print(transcript)\n",
        "\n",
        "            summary = summarize_text(transcript)\n",
        "            print(\"\\nAudio/Video Summary:\")\n",
        "            print(textwrap.fill(summary, width=80))\n",
        "        except Exception as e:\n",
        "            print(f\"Error processing audio with whisper: {str(e)}\")"
      ],
      "metadata": {
        "id": "xmdsqWbR8zlh"
      },
      "execution_count": 7,
      "outputs": []
    },
    {
      "cell_type": "code",
      "source": [
        "def determine_input_type(url, uploaded_file):\n",
        "    if url:\n",
        "        return 'youtube'\n",
        "    elif uploaded_file:\n",
        "        file_name = uploaded_file.get('name', '')\n",
        "        print(f\"Debug: File name in determine_input_type: {file_name}\")\n",
        "\n",
        "        if not file_name:\n",
        "            return 'unknown'\n",
        "\n",
        "        # Check file extension\n",
        "        file_extension = os.path.splitext(file_name)[1].lower()\n",
        "        print(f\"Debug: File extension is {file_extension}\")\n",
        "\n",
        "        if file_extension in ['.mp4', '.avi', '.mov']:\n",
        "            return 'video'\n",
        "        elif file_extension in ['.mp3', '.wav', '.ogg', '.m4a']:\n",
        "            return 'audio'\n",
        "\n",
        "        # If extension check fails, try mime type\n",
        "        mime_type, _ = mimetypes.guess_type(file_name)\n",
        "        print(f\"Debug: Detected MIME type is {mime_type}\")\n",
        "\n",
        "        if mime_type:\n",
        "            if mime_type.startswith('video'):\n",
        "                return 'video'\n",
        "            elif mime_type.startswith('audio'):\n",
        "                return 'audio'\n",
        "\n",
        "    return 'unknown'"
      ],
      "metadata": {
        "id": "REE0TZeF84Kx"
      },
      "execution_count": 8,
      "outputs": []
    },
    {
      "cell_type": "code",
      "source": [
        "def process_youtube(url):\n",
        "    try:\n",
        "        audio_file = download_audio(url)\n",
        "        if os.path.exists(audio_file):\n",
        "            print(f\"Debug: Audio file exists: {audio_file}\")\n",
        "            print(f\"Debug: File size: {os.path.getsize(audio_file)} bytes\")\n",
        "            process_audio(audio_file)\n",
        "        else:\n",
        "            print(f\"Error: Audio file {audio_file} not found after download\")\n",
        "    except Exception as e:\n",
        "        print(f\"An error occurred while processing YouTube URL: {str(e)}\")\n"
      ],
      "metadata": {
        "id": "EkHfTxLr89qN"
      },
      "execution_count": 14,
      "outputs": []
    },
    {
      "cell_type": "code",
      "source": [
        "def process_video(file_path):\n",
        "    audio_file = 'audio.wav'\n",
        "    if os.path.exists(audio_file):\n",
        "        os.remove(audio_file)\n",
        "\n",
        "    os.system(f\"ffmpeg -i '{file_path}' -vn -acodec pcm_s16le -ar 44100 -ac 2 '{audio_file}' -y\")\n",
        "    process_audio(audio_file)"
      ],
      "metadata": {
        "id": "0Z-Yil_E9BCQ"
      },
      "execution_count": 15,
      "outputs": []
    },
    {
      "cell_type": "code",
      "source": [
        "from IPython.display import display, Markdown\n",
        "def process_audio(file_path):\n",
        "    print(f\"Debug: Starting to process audio file: {file_path}\")\n",
        "    try:\n",
        "        reader = VideoAudioReader()\n",
        "        documents = reader.load_data(Path(file_path))\n",
        "        transcript = documents[0].text\n",
        "        print(\"Transcript:\")\n",
        "        print(transcript)\n",
        "\n",
        "        summary = summarize_text(transcript)\n",
        "        print(\"\\nAudio/Video Summary:\")\n",
        "        #print(textwrap.fill(summary, width=80))\n",
        "        display(Markdown(summary))\n",
        "    except Exception as e:\n",
        "        print(f\"Error processing audio: {str(e)}\")"
      ],
      "metadata": {
        "id": "ra5-c_8Z9EYS"
      },
      "execution_count": 26,
      "outputs": []
    },
    {
      "cell_type": "code",
      "source": [
        "def summarize_text(text, max_tokens=500):\n",
        "    response = client.chat.completions.create(\n",
        "        model=\"gpt-4o\",\n",
        "        messages=[\n",
        "            {\"role\": \"system\", \"content\": \"You are a helpful assistant that summarizes video transcripts.\"},\n",
        "            {\"role\": \"user\", \"content\": f\"Please summarize the following video transcript in about 250 words and be concise:\\n\\n{text}\"}\n",
        "        ],\n",
        "        max_tokens=max_tokens\n",
        "    )\n",
        "    return response.choices[0].message.content"
      ],
      "metadata": {
        "id": "A9UMDaXa9Ibg"
      },
      "execution_count": 17,
      "outputs": []
    },
    {
      "cell_type": "code",
      "source": [
        "def handle_upload(change):\n",
        "    global processed_files\n",
        "    if not change['new']:\n",
        "        print(\"No file was uploaded.\")\n",
        "        return\n",
        "\n",
        "    for filename, file_info in change['new'].items():\n",
        "        if filename in processed_files:\n",
        "            print(f\"File {filename} has already been processed. Skipping.\")\n",
        "            continue\n",
        "\n",
        "        print(f\"Debug: Uploaded file info: {filename}\")\n",
        "\n",
        "        file_name = file_info['metadata']['name']\n",
        "        content = file_info['content']\n",
        "\n",
        "        print(f\"Debug: File name is {file_name}\")\n",
        "\n",
        "        if not content:\n",
        "            print(\"The uploaded file is empty.\")\n",
        "            continue\n",
        "\n",
        "        with open(file_name, 'wb') as f:\n",
        "            f.write(content)\n",
        "\n",
        "        input_type = determine_input_type('', {'name': file_name})\n",
        "        print(f\"Debug: Determined input type is {input_type}\")\n",
        "\n",
        "        if input_type == 'video':\n",
        "            process_video(file_name)\n",
        "        elif input_type == 'audio':\n",
        "            process_audio(file_name)\n",
        "        else:\n",
        "            print(f\"Unsupported file type: {file_name}. Please upload an MP4 video or MP3/WAV audio file.\")\n",
        "\n",
        "        processed_files.add(filename)"
      ],
      "metadata": {
        "id": "TlrQPqDA9LwW"
      },
      "execution_count": 18,
      "outputs": []
    },
    {
      "cell_type": "code",
      "source": [
        "def delete_uploaded_files(b):\n",
        "    global processed_files\n",
        "    for file in os.listdir():\n",
        "        if file.endswith(('.mp4', '.mp3', '.wav', '.wav')):\n",
        "            os.remove(file)\n",
        "    processed_files.clear()  # Clear the set of processed files\n",
        "    print(\"All uploaded files have been deleted and the processed files list has been cleared.\")\n",
        "    print(\"Ready for new input. Please enter a YouTube URL or upload new files.\")\n",
        "\n"
      ],
      "metadata": {
        "id": "PLcI91rfE5XI"
      },
      "execution_count": 19,
      "outputs": []
    },
    {
      "cell_type": "code",
      "source": [
        "# Widgets\n",
        "url_input = widgets.Text(\n",
        "    value='',\n",
        "    placeholder='Enter YouTube video URL',\n",
        "    description='YouTube URL:',\n",
        "    disabled=False\n",
        ")"
      ],
      "metadata": {
        "id": "BWd3hzvy9Qh-"
      },
      "execution_count": 20,
      "outputs": []
    },
    {
      "cell_type": "code",
      "source": [
        "upload_button = widgets.FileUpload(\n",
        "    accept=\".mp4,.mp3,.wav\",\n",
        "    multiple=True\n",
        ")"
      ],
      "metadata": {
        "id": "XWpzjyud9UEl"
      },
      "execution_count": 21,
      "outputs": []
    },
    {
      "cell_type": "code",
      "source": [
        "process_button = widgets.Button(\n",
        "    description='Process Media',\n",
        "    disabled=False,\n",
        "    button_style='',\n",
        "    tooltip='Click to process the media'\n",
        ")"
      ],
      "metadata": {
        "id": "_cbsU7RZ9Xqj"
      },
      "execution_count": 22,
      "outputs": []
    },
    {
      "cell_type": "code",
      "source": [
        "delete_button = widgets.Button(\n",
        "    description='Delete Uploaded Files',\n",
        "    disabled=False,\n",
        "    button_style='danger',\n",
        "    tooltip='Click to delete all uploaded files'\n",
        ")"
      ],
      "metadata": {
        "id": "rlsUdWuaFNil"
      },
      "execution_count": 23,
      "outputs": []
    },
    {
      "cell_type": "code",
      "source": [
        "def on_button_click(b):\n",
        "    global processed_files\n",
        "    url = url_input.value\n",
        "    uploaded_files = upload_button.value\n",
        "\n",
        "    if not url and not uploaded_files:\n",
        "        print(\"Please enter a YouTube video URL or upload a video (MP4) or audio (MP3/WAV) file.\")\n",
        "        return\n",
        "\n",
        "    if url:\n",
        "        process_youtube(url)\n",
        "    elif uploaded_files:\n",
        "        for filename, file_info in uploaded_files.items():\n",
        "            if filename in processed_files:\n",
        "                print(f\"File {filename} has already been processed. Skipping.\")\n",
        "                continue\n",
        "\n",
        "            file_name = file_info['metadata']['name']\n",
        "            input_type = determine_input_type('', {'name': file_name})\n",
        "\n",
        "            try:\n",
        "                if input_type == 'video':\n",
        "                    process_video(file_name)\n",
        "                elif input_type == 'audio':\n",
        "                    process_audio(file_name)\n",
        "                else:\n",
        "                    print(f\"Unsupported file type: {file_name}. Please upload an MP4 video or MP3/WAV audio file.\")\n",
        "\n",
        "                processed_files.add(filename)\n",
        "            except Exception as e:\n",
        "                print(f\"An error occurred while processing {file_name}: {str(e)}\")\n",
        "    else:\n",
        "        print(\"Unsupported input type. Please enter a YouTube video URL or upload a video (MP4) or audio (MP3/WAV) file.\")\n",
        "\n",
        "    # Clear the widgets\n",
        "    url_input.value = ''\n",
        "    upload_button.value.clear()\n",
        "    upload_button._counter = 0\n",
        "\n",
        "# Link button clicks to functions\n",
        "process_button.on_click(on_button_click)\n",
        "delete_button.on_click(delete_uploaded_files)\n",
        "\n",
        "# Display widgets\n",
        "display(url_input)\n",
        "display(upload_button)\n",
        "display(process_button)\n",
        "display(delete_button)\n",
        "\n",
        "# Observe file upload\n",
        "upload_button.observe(handle_upload, names='value')\n",
        "\n",
        "# video_url:  \"https://youtu.be/IxbR0yTMMY8?si=c5oTph_rRV2Sk_Gq\""
      ],
      "metadata": {
        "id": "lyAb4npT9a-V",
        "colab": {
          "base_uri": "https://localhost:8080/",
          "height": 1000,
          "referenced_widgets": [
            "11713abafe4949aea51207a1b2100a9c",
            "94b2230b149b4432b7a2b8e76a544f54",
            "ce6e9bef9ce44f499004e79963b77225",
            "78520e86d16a42f8a91b5809c7f0a186",
            "bc4c838706744b539f57cbd51a455075",
            "d17840972ec14c0180e9747abdfc90e4",
            "a253d9527c204742b39b31a581ea781a",
            "9e9e99be5c4246bc8f2e7e2eccc53052",
            "e7b7f5fcef274e6ba55abaaeb4d04d83",
            "6153b192039d4c079f03e7ecbc6a2009",
            "a3d81df8262a4bfc9ecfdb39ef709c89",
            "e1f1266427484b3b9a610582973f30fe"
          ]
        },
        "outputId": "db854885-929e-41d0-c402-c9b414bbfb6b"
      },
      "execution_count": 24,
      "outputs": [
        {
          "output_type": "display_data",
          "data": {
            "text/plain": [
              "Text(value='', description='YouTube URL:', placeholder='Enter YouTube video URL')"
            ],
            "application/vnd.jupyter.widget-view+json": {
              "version_major": 2,
              "version_minor": 0,
              "model_id": "11713abafe4949aea51207a1b2100a9c"
            }
          },
          "metadata": {}
        },
        {
          "output_type": "display_data",
          "data": {
            "text/plain": [
              "FileUpload(value={}, accept='.mp4,.mp3,.wav', description='Upload', multiple=True)"
            ],
            "application/vnd.jupyter.widget-view+json": {
              "version_major": 2,
              "version_minor": 0,
              "model_id": "78520e86d16a42f8a91b5809c7f0a186"
            }
          },
          "metadata": {}
        },
        {
          "output_type": "display_data",
          "data": {
            "text/plain": [
              "Button(description='Process Media', style=ButtonStyle(), tooltip='Click to process the media')"
            ],
            "application/vnd.jupyter.widget-view+json": {
              "version_major": 2,
              "version_minor": 0,
              "model_id": "a253d9527c204742b39b31a581ea781a"
            }
          },
          "metadata": {}
        },
        {
          "output_type": "display_data",
          "data": {
            "text/plain": [
              "Button(button_style='danger', description='Delete Uploaded Files', style=ButtonStyle(), tooltip='Click to dele…"
            ],
            "application/vnd.jupyter.widget-view+json": {
              "version_major": 2,
              "version_minor": 0,
              "model_id": "6153b192039d4c079f03e7ecbc6a2009"
            }
          },
          "metadata": {}
        },
        {
          "output_type": "stream",
          "name": "stdout",
          "text": [
            "[youtube] Extracting URL: https://youtu.be/DpQQi2scsHo?si=_jAuO_fgchVu0Cwt\n",
            "[youtube] DpQQi2scsHo: Downloading webpage\n",
            "[youtube] DpQQi2scsHo: Downloading ios player API JSON\n",
            "[youtube] DpQQi2scsHo: Downloading web creator player API JSON\n",
            "[youtube] DpQQi2scsHo: Downloading player 53afa3ce\n",
            "[youtube] DpQQi2scsHo: Downloading m3u8 information\n",
            "[info] DpQQi2scsHo: Downloading 1 format(s): 251\n",
            "[download] Destination: audio.wav\n",
            "[download] 100% of   10.18MiB in 00:00:00 at 23.31MiB/s  \n",
            "[ExtractAudio] Destination: audio.wav.wav\n",
            "Deleting original file audio.wav (pass -k to keep)\n",
            "Debug: Audio file downloaded as audio.wav\n",
            "Debug: Audio file exists: audio.wav\n",
            "Debug: File size: 154138970 bytes\n",
            "Debug: Starting to process audio file: audio.wav\n"
          ]
        },
        {
          "output_type": "stream",
          "name": "stderr",
          "text": [
            "100%|███████████████████████████████████████| 139M/139M [00:03<00:00, 48.2MiB/s]\n"
          ]
        },
        {
          "output_type": "stream",
          "name": "stdout",
          "text": [
            "Transcript:\n",
            " Only four companies in the world are worth more than $2 trillion. Microsoft, Apple, Alphabet, parent company of Google, and computer chip maker in video. The California-based company saw its stock market value soar from $1 trillion to $2 trillion in just eight months this past year, fueled by the insatiable demand for its cutting-edge technology, the hardware and software that make today's artificial intelligence possible. We wondered how a company founded in 1993 to improve video game graphics turned into a Titan of 21st century AI. So we went to Silicon Valley to meet and video 61-year-old co-founder and CEO Jensen Huang, who has no doubt AI is about to change everything. The story will continue in a moment. At Nvidia's annual developer's conference this past March, the mood wasn't just upbeat. It was downright giddy. More than 11,000 enthusiasts, software developers, tech moguls, and happy shareholders filed into San Jose's pro-hockey arena to kick off a four-day AI extravaganza. They came to see this man, Jensen Huang, CEO of Nvidia. Welcome to GTC! What was that like for you to walk out on that stage and see that? You know, Bill, I'm an engineer. I'm not a performer. When I walked out there and all of the people going crazy, it took the breath out of me. And so I was the scariest I've ever been. I'm still scared. You'd never know it. Clad in his signature cool black outfit, Jensen shared the stage with Nvidia powered robots. Let me finish up real quick and shared his vision of an AI future. A new industrial revolution. It reminded us of the transformational moment when Apple Steve Jobs unveiled the iPhone. Jensen Huang unveiled Nvidia's latest graphics processing unit or GPU. This is blackwell. Designed in America, but made in Taiwan like most advanced semiconductors, blackwell, he says, is the fastest chip ever. Google is gearing up for blackwell. The whole industry is gearing up for blackwell. Nvidia ushered in the AI revolution with its game-changing GPU. A single chip able to process a myriad of calculations all at once, not sequentially like more standard chips. The GPU is the engine of Nvidia's AI computer, enabling it to rapidly absorb a fire hose of information. It does quadrillion of calculations a second. It's just insane numbers. Is it doing things now that surprise you? We're hoping that it does things that surprise us. That's the whole point. In some areas like drug discovery, designing better materials that are lighter, stronger, we need artificial intelligence to help us explore the universe in places that we could have never done ourselves. Let me show you. Here, Bill, look at this. Jensen took us around the GTC convention hall to show us what AI has made possible in just the past few years. I'm making your drink now. Some creations were dazzling. This is a digital twin of the earth. Once it learns how to calculate weather, it can calculate and predict weather three thousand times faster than a supercomputer and a thousand times less energy. But Nvidia's AI revolution extends far beyond this hall. Blue metallic spaceship and let's generate something. Pinar Seihon Demarda is originally from Istanbul, but co-founded Kubrick near Boston. Her AI application uses Nvidia's GPUs to instantly turn a simple text prompt into a virtual movie set for a fraction of the cost of today's backdrops. This isn't something that's already planned. No, we're doing it in real time. It's life. Is Hollywood knocking at your door? And we're getting a lot of love. Nearby at Generate Biomedicines, Dr. Alex Snyder, head of research and development, is using Nvidia's technology to create protein-based drugs. She was surprised at first to see they showed promise in the lab. Initially, when I was told about the application of AI to drug development, I sort of rolled my eyes and said, yeah, you know, show me the data. And then I looked at the data and it was very compelling. Dr. Snyder's team asks its AI models to create new proteins to fight specific diseases like cancer and asthma. A new way to defeat the coronavirus is now in clinical trials. You're now working with proteins that do not exist in nature, that you're coming up with by way of AI? Yes. We are actually generating what we call denovo, completely new structures that have not existed before. Did you trust it? As scientists, we can't trust. We have to test. We're not putting Franken's signs into people. We're taking what's known and we're really pushing the field. We're pushing the biology to make drugs that look like regular drugs, but function even better. This is a technology that will only get better from here. Brett Adcock is CEO of Figure, a Silicon Valley startup with funding from NVIDIA. Look at his answer to labor shortages, an NVIDIA GPU-driven prototype called Figure One. I think what's been really extraordinary is the pace of progress we've made in 21 months. From zero to this, from one year to this. Yeah, we were walking this robot in under a year since I incorporated the company. Could you do this without NVIDIA's technology? We think they're arguably the best in the world at this. I don't know if this would be possible without them. I'm here to assist with tasks as requested. We were amazed that Figure One is not just walking, but seemed to reason. Hand me something healthy. On it. Figure One was able to understand I wanted the orange, not the packaged snack. Thank you. It's not yet perfected. You're going to get it. But the early results are so promising. German automaker BMW plans to start testing the robot in its South Carolina factory this year. I think there's an opportunity to ship billions of robots in the coming decades. Under the planet. Billions. I would think that a lot of workers would look at that as this robot is taking my job. I think over time AI and robotics will start doing more and more of what humans can and better. What about the worker? The workers work for companies. And so companies, when they become more productive, earnings increase. I've never seen one company that had earnings increase and not hire more people. There are some jobs that are going to become obsolete. Well, let me offer it this way. I believe that you still want human into loop because we have good judgment because there are circumstances that the machines are not just not going to understand. The futuristic Nvidia campus sits just down the road from its modest birthplace. This Denny's in San Jose. We're 31 years ago in video was just an idea. My goodness. When he was 15, Jensen Huang worked as a dishwasher at Denny's. As a 30 year old electrical engineer married with two children, he and two friends in video co-founders Chris Malakowski and Curtis Prem envisioned a whole new way of processing video game graphics. So we came here right here to this Denny's set right back there. And the three of us decided to start the company. Frankly, I have no idea how to do it. And nor did they. None of us knew how to do anything. Their big idea accelerate the processing power of computers with a new graphics chip. Their initial attempt flopped and nearly bankrupted the company in 1996. And the genius of the engineers and Chris and Curtis, we pivoted to the right way of doing things. And created their groundbreaking GPU. The chip took video games from this to this today. Completely changed. Computer graphics saved the company. Launched us into into the stratosphere. Just eight years after Denny's, Nvidia earned a spot in the S&P 500. Jensen then set his sights on developing the software and hardware for a revolutionary GPU driven supercomputer, which would take the company far beyond video games. To Wall Street, it was a risky bet. To early developers of AI, it was a revelation. Was that luck or was that vision? That was a luck founded by vision. We invented this capability. And then one day, the researchers that were creating deep learning discovered this architecture. Because this architecture turns out to have been perfect for them. Perfect for AI. Perfect for AI. This is the first one we've ever shipped. In 2016, Jensen delivered Nvidia's AI super computer, the first of its kind, to Elon Musk, then a board member of OpenAI, which used it to create the building blocks of chat GPT. How are you? When AI took off, Hey guys, so did Jensen Huang's reputation. Can we get a picture? Yeah, yeah. He's now a Silicon Valley celebrity. He told us the boy who immigrated from Taiwan at age nine could never have conceived of this. It is the most extraordinary thing, Bill, that a normal dishwasher bus boy could grow up to be this. There's no magic. It's just 61 years of hard work every single day. I don't think there's anything more than that. We met a humble Jensen at Denny's. Back at Nvidia's headquarters in Santa Clara, we saw he can be intense. Let me tell you what some of the people who you work with said about you, demanding, perfectionist, not easy to work for. All that sound right? Perfectly, yeah. It should be like that. If you want to do extraordinary things, it shouldn't be easy. All right, guys, keep up to go work. Nvidia has never done better. Investors are bullish, but last year, more than 600 top AI scientists, ethicists and others signed this statement urging caution, warning of AI's risk to humanity. When I talk to you and I hear you speak, part of me goes, she wins. And the other part of me goes, oh my god, what are we in for? Yeah, yeah, which one is it? It's both. It's both. Yeah, you're feeling all the right feelings. I feel both. You feel both. Sure. Sure. Humanity will have the choice to see themselves inferior to machines or superior to machines. Pinar Sehan Demarda is an AI optimist, though she named her company Kubrick, and homage to Stanley Kubrick, the director of 2001, a space odyssey. Hello, how do you read me? In that film, how the AI computer goes rogue. Open the five bay doors, how? I'm sorry, Dave. I'm afraid I can't do that. I think that's what worries people about AI, that we will lose control of it. Just because a machine can do faster calculations, comparisons, and analytical solution creation that doesn't make you smarter than you. It simply computates faster. In my world, in my belief, smarts have to do with your capacity to love, create, expand, transcend. These are qualities that no machine can ever bear that are reserved to only humans. There is something going on. Jensen Huang sees an AI future of progress and prosperity, not one with machines as our masters. We can only hope he's right. Thank you all for coming. Thank you.\n",
            "\n",
            "Audio/Video Summary:\n",
            "Only four companies in the world have a market value exceeding $2 trillion:\n",
            "Microsoft, Apple, Alphabet (Google's parent company), and Nvidia, a California-\n",
            "based company founded in 1993 initially to enhance video game graphics. Nvidia's\n",
            "stock value surged from $1 trillion to $2 trillion in eight months, driven by\n",
            "high demand for its advanced technologies crucial for artificial intelligence\n",
            "(AI).  At Nvidia's annual developer conference in March, CEO and co-founder\n",
            "Jensen Huang discussed the transformative potential of AI, comparing the current\n",
            "moment to Apple's iPhone launch. Huang introduced Nvidia's latest graphics\n",
            "processing unit (GPU), named Blackwell, which is designed in America but\n",
            "manufactured in Taiwan. The GPU processes numerous calculations simultaneously\n",
            "and is key to AI development.  Various industries are leveraging Nvidia's AI\n",
            "technology. At the AI conference, applications showcased included a digital twin\n",
            "of Earth for rapid weather predictions, film set generation from text prompts,\n",
            "and protein-based drug design. Companies like Kubrick and Generate Biomedicines\n",
            "are innovating using Nvidia's GPUs, showing significant strides in virtual\n",
            "environments and medical research.  Nvidia's journey started humbly in a San\n",
            "Jose Denny’s, envisioned by Huang and his co-founders. Despite initial setbacks,\n",
            "Nvidia's invention of the GPU revolutionized video game graphics and paved the\n",
            "way for their venture into AI. Nvidia's AI supercomputers have contributed to\n",
            "advancements like OpenAI's ChatGPT.  Huang, recognized as both demanding and\n",
            "visionary, foresees AI's profound impact on industries and daily life. Despite\n",
            "ethical and safety concerns expressed by AI scientists, Huang remains optimistic\n",
            "about AI's benefits, emphasizing human qualities that machines cannot replicate.\n",
            "[youtube] Extracting URL: https://youtu.be/IxbR0yTMMY8?si=c5oTph_rRV2Sk_Gq\n",
            "[youtube] IxbR0yTMMY8: Downloading webpage\n",
            "[youtube] IxbR0yTMMY8: Downloading ios player API JSON\n",
            "[youtube] IxbR0yTMMY8: Downloading web creator player API JSON\n",
            "[youtube] IxbR0yTMMY8: Downloading m3u8 information\n",
            "[info] IxbR0yTMMY8: Downloading 1 format(s): 251\n",
            "[download] audio.wav has already been downloaded\n",
            "[download] 100% of  147.00MiB\n",
            "[ExtractAudio] Destination: audio.wav\n",
            "Deleting original file audio.orig.wav (pass -k to keep)\n",
            "Debug: Audio file downloaded as audio.wav\n",
            "Debug: Audio file exists: audio.wav\n",
            "Debug: File size: 154138970 bytes\n",
            "Debug: Starting to process audio file: audio.wav\n",
            "Transcript:\n",
            " Only four companies in the world are worth more than $2 trillion. Microsoft, Apple, Alphabet, parent company of Google, and computer chip maker in video. The California-based company saw its stock market value soar from $1 trillion to $2 trillion in just eight months this past year, fueled by the insatiable demand for its cutting-edge technology, the hardware and software that make today's artificial intelligence possible. We wondered how a company founded in 1993 to improve video game graphics turned into a Titan of 21st century AI. So we went to Silicon Valley to meet and video 61-year-old co-founder and CEO Jensen Huang, who has no doubt AI is about to change everything. The story will continue in a moment. At Nvidia's annual developer's conference this past March, the mood wasn't just upbeat. It was downright giddy. More than 11,000 enthusiasts, software developers, tech moguls, and happy shareholders filed into San Jose's pro-hockey arena to kick off a four-day AI extravaganza. They came to see this man, Jensen Huang, CEO of Nvidia. Welcome to GTC! What was that like for you to walk out on that stage and see that? You know, Bill, I'm an engineer. I'm not a performer. When I walked out there and all of the people going crazy, it took the breath out of me. And so I was the scariest I've ever been. I'm still scared. You'd never know it. Clad in his signature cool black outfit, Jensen shared the stage with Nvidia powered robots. Let me finish up real quick and shared his vision of an AI future. A new industrial revolution. It reminded us of the transformational moment when Apple Steve Jobs unveiled the iPhone. Jensen Huang unveiled Nvidia's latest graphics processing unit or GPU. This is blackwell. Designed in America, but made in Taiwan like most advanced semiconductors, blackwell, he says, is the fastest chip ever. Google is gearing up for blackwell. The whole industry is gearing up for blackwell. Nvidia ushered in the AI revolution with its game-changing GPU. A single chip able to process a myriad of calculations all at once, not sequentially like more standard chips. The GPU is the engine of Nvidia's AI computer, enabling it to rapidly absorb a fire hose of information. It does quadrillion of calculations a second. It's just insane numbers. Is it doing things now that surprise you? We're hoping that it does things that surprise us. That's the whole point. In some areas like drug discovery, designing better materials that are lighter, stronger, we need artificial intelligence to help us explore the universe in places that we could have never done ourselves. Let me show you. Here, Bill, look at this. Jensen took us around the GTC convention hall to show us what AI has made possible in just the past few years. I'm making your drink now. Some creations were dazzling. This is a digital twin of the earth. Once it learns how to calculate weather, it can calculate and predict weather three thousand times faster than a supercomputer and a thousand times less energy. But Nvidia's AI revolution extends far beyond this hall. Blue metallic spaceship and let's generate something. Pinar Seihon Demarda is originally from Istanbul, but co-founded Kubrick near Boston. Her AI application uses Nvidia's GPUs to instantly turn a simple text prompt into a virtual movie set for a fraction of the cost of today's backdrops. This isn't something that's already planned. No, we're doing it in real time. It's life. Is Hollywood knocking at your door? And we're getting a lot of love. Nearby at Generate Biomedicines, Dr. Alex Snyder, head of research and development, is using Nvidia's technology to create protein-based drugs. She was surprised at first to see they showed promise in the lab. Initially, when I was told about the application of AI to drug development, I sort of rolled my eyes and said, yeah, you know, show me the data. And then I looked at the data and it was very compelling. Dr. Snyder's team asks its AI models to create new proteins to fight specific diseases like cancer and asthma. A new way to defeat the coronavirus is now in clinical trials. You're now working with proteins that do not exist in nature, that you're coming up with by way of AI? Yes. We are actually generating what we call denovo, completely new structures that have not existed before. Did you trust it? As scientists, we can't trust. We have to test. We're not putting Franken's signs into people. We're taking what's known and we're really pushing the field. We're pushing the biology to make drugs that look like regular drugs, but function even better. This is a technology that will only get better from here. Brett Adcock is CEO of Figure, a Silicon Valley startup with funding from NVIDIA. Look at his answer to labor shortages, an NVIDIA GPU-driven prototype called Figure One. I think what's been really extraordinary is the pace of progress we've made in 21 months. From zero to this, from one year to this. Yeah, we were walking this robot in under a year since I incorporated the company. Could you do this without NVIDIA's technology? We think they're arguably the best in the world at this. I don't know if this would be possible without them. I'm here to assist with tasks as requested. We were amazed that Figure One is not just walking, but seemed to reason. Hand me something healthy. On it. Figure One was able to understand I wanted the orange, not the packaged snack. Thank you. It's not yet perfected. You're going to get it. But the early results are so promising. German automaker BMW plans to start testing the robot in its South Carolina factory this year. I think there's an opportunity to ship billions of robots in the coming decades. Under the planet. Billions. I would think that a lot of workers would look at that as this robot is taking my job. I think over time AI and robotics will start doing more and more of what humans can and better. What about the worker? The workers work for companies. And so companies, when they become more productive, earnings increase. I've never seen one company that had earnings increase and not hire more people. There are some jobs that are going to become obsolete. Well, let me offer it this way. I believe that you still want human into loop because we have good judgment because there are circumstances that the machines are not just not going to understand. The futuristic Nvidia campus sits just down the road from its modest birthplace. This Denny's in San Jose. We're 31 years ago in video was just an idea. My goodness. When he was 15, Jensen Huang worked as a dishwasher at Denny's. As a 30 year old electrical engineer married with two children, he and two friends in video co-founders Chris Malakowski and Curtis Prem envisioned a whole new way of processing video game graphics. So we came here right here to this Denny's set right back there. And the three of us decided to start the company. Frankly, I have no idea how to do it. And nor did they. None of us knew how to do anything. Their big idea accelerate the processing power of computers with a new graphics chip. Their initial attempt flopped and nearly bankrupted the company in 1996. And the genius of the engineers and Chris and Curtis, we pivoted to the right way of doing things. And created their groundbreaking GPU. The chip took video games from this to this today. Completely changed. Computer graphics saved the company. Launched us into into the stratosphere. Just eight years after Denny's, Nvidia earned a spot in the S&P 500. Jensen then set his sights on developing the software and hardware for a revolutionary GPU driven supercomputer, which would take the company far beyond video games. To Wall Street, it was a risky bet. To early developers of AI, it was a revelation. Was that luck or was that vision? That was a luck founded by vision. We invented this capability. And then one day, the researchers that were creating deep learning discovered this architecture. Because this architecture turns out to have been perfect for them. Perfect for AI. Perfect for AI. This is the first one we've ever shipped. In 2016, Jensen delivered Nvidia's AI super computer, the first of its kind, to Elon Musk, then a board member of OpenAI, which used it to create the building blocks of chat GPT. How are you? When AI took off, Hey guys, so did Jensen Huang's reputation. Can we get a picture? Yeah, yeah. He's now a Silicon Valley celebrity. He told us the boy who immigrated from Taiwan at age nine could never have conceived of this. It is the most extraordinary thing, Bill, that a normal dishwasher bus boy could grow up to be this. There's no magic. It's just 61 years of hard work every single day. I don't think there's anything more than that. We met a humble Jensen at Denny's. Back at Nvidia's headquarters in Santa Clara, we saw he can be intense. Let me tell you what some of the people who you work with said about you, demanding, perfectionist, not easy to work for. All that sound right? Perfectly, yeah. It should be like that. If you want to do extraordinary things, it shouldn't be easy. All right, guys, keep up to go work. Nvidia has never done better. Investors are bullish, but last year, more than 600 top AI scientists, ethicists and others signed this statement urging caution, warning of AI's risk to humanity. When I talk to you and I hear you speak, part of me goes, she wins. And the other part of me goes, oh my god, what are we in for? Yeah, yeah, which one is it? It's both. It's both. Yeah, you're feeling all the right feelings. I feel both. You feel both. Sure. Sure. Humanity will have the choice to see themselves inferior to machines or superior to machines. Pinar Sehan Demarda is an AI optimist, though she named her company Kubrick, and homage to Stanley Kubrick, the director of 2001, a space odyssey. Hello, how do you read me? In that film, how the AI computer goes rogue. Open the five bay doors, how? I'm sorry, Dave. I'm afraid I can't do that. I think that's what worries people about AI, that we will lose control of it. Just because a machine can do faster calculations, comparisons, and analytical solution creation that doesn't make you smarter than you. It simply computates faster. In my world, in my belief, smarts have to do with your capacity to love, create, expand, transcend. These are qualities that no machine can ever bear that are reserved to only humans. There is something going on. Jensen Huang sees an AI future of progress and prosperity, not one with machines as our masters. We can only hope he's right. Thank you all for coming. Thank you.\n",
            "\n",
            "Audio/Video Summary:\n"
          ]
        },
        {
          "output_type": "display_data",
          "data": {
            "text/plain": [
              "<IPython.core.display.Markdown object>"
            ],
            "text/markdown": "The video transcript discusses Nvidia's transformation from a video game graphics company to a leading force in artificial intelligence (AI). Founded in 1993, Nvidia reached a $2 trillion valuation in just eight months, driven by its advanced GPU technology crucial for AI development. The transcript features Jensen Huang, Nvidia's co-founder and CEO, who emphasizes AI’s transformative potential.\n\nAt Nvidia's recent developer conference, Huang showcased the new “Blackwell” GPU, noted for unprecedented speed and efficiency. The GPU enables massive calculations in parallel, making it foundational for various AI applications. Examples include advancing drug discovery, creating virtual movie sets, and aiding material design.\n\nHuang compares the AI revolution to historical technological leaps, underscoring AI’s role in future advancements. Nvidia's GPUs are also pivotal in AI models for innovative tasks, such as drug development and robotic automation. Companies like Generate Biomedicines and Figure, a robotics startup, use Nvidia’s technology to make significant strides in their fields.\n\nThe narrative traces Nvidia's journey from a startup discussed at a Denny’s to a tech giant integral to AI's growth. Despite high demand and substantial achievements, Huang remains humble and focused on innovation. However, the transcript also highlights the duality of AI's promise and potential risk, reflecting broader societal concerns over AI’s future role. Jensen Huang asserts the collaborative potential of humans and AI, ultimately envisioning a future where AI fosters human advancement rather than domination."
          },
          "metadata": {}
        }
      ]
    }
  ]
}